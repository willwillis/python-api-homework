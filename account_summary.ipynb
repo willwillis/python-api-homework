{
  "cells": [
    {
      "cell_type": "code",
      "source": [
        "import os\n",
        "import plaid\n",
        "import requests\n",
        "import datetime\n",
        "import json\n",
        "import pandas as pd\n",
        "%matplotlib inline"
      ],
      "outputs": [],
      "execution_count": 1,
      "metadata": {}
    },
    {
      "cell_type": "code",
      "source": [
        "def pretty_print_response(response):\n",
        "  print(json.dumps(response, indent=4, sort_keys=True))"
      ],
      "outputs": [],
      "execution_count": 2,
      "metadata": {}
    },
    {
      "cell_type": "code",
      "source": [
        "PLAID_CLIENT_ID = os.getenv('PLAID_CLIENT_ID')\n",
        "PLAID_SECRET = os.getenv('PLAID_SECRET')\n",
        "PLAID_PUBLIC_KEY = os.getenv('PLAID_PUBLIC_KEY')\n",
        "PLAID_ENV = os.getenv('PLAID_ENV', 'sandbox')\n",
        "PLAID_PRODUCTS = os.getenv('PLAID_PRODUCTS', 'transactions')"
      ],
      "outputs": [],
      "execution_count": 3,
      "metadata": {}
    },
    {
      "cell_type": "markdown",
      "source": [
        "# Plaid Access Token\n",
        "\n",
        "In this section, you will use the plaid-python api to generate the correct authentication tokens to access data in the free developer Sandbox. This mimics how you might connect to your own account or a customer account, but due to privacy issues, this homework will only require connecting to and analyzing the fake data from the developer sandbox that Plaid provides. \n",
        "\n",
        "Complete the following steps to generate an access token:\n",
        "1. Create a client to connect to paid\n",
        "2. Use the client to generate a public token and request the following items: \n",
        "['transactions', 'income', 'assets']\n",
        "3. Exchange the public token for an access token\n",
        "4. Test the access token by requesting and printing the available test accounts"
      ],
      "metadata": {}
    },
    {
      "cell_type": "markdown",
      "source": [
        "### 1. Create a client to connect to plaid"
      ],
      "metadata": {}
    },
    {
      "cell_type": "code",
      "source": [
        "INSITUTION_ID = \"ins_109508\""
      ],
      "outputs": [],
      "execution_count": 5,
      "metadata": {}
    },
    {
      "cell_type": "code",
      "source": [
        "# YOUR CODE HERE"
      ],
      "outputs": [],
      "execution_count": 4,
      "metadata": {}
    },
    {
      "cell_type": "markdown",
      "source": [
        "### 2. Generate a public token"
      ],
      "metadata": {}
    },
    {
      "cell_type": "code",
      "source": [
        "# YOUR CODE HERE"
      ],
      "outputs": [],
      "execution_count": null,
      "metadata": {}
    },
    {
      "cell_type": "markdown",
      "source": [
        "### 3. Exchange the public token for an access token"
      ],
      "metadata": {}
    },
    {
      "cell_type": "code",
      "source": [
        "# YOUR CODE HERE"
      ],
      "outputs": [],
      "execution_count": null,
      "metadata": {}
    },
    {
      "cell_type": "markdown",
      "source": [
        "### 4. Fetch Accounts"
      ],
      "metadata": {}
    },
    {
      "cell_type": "code",
      "source": [
        "# YOUR CODE HERE"
      ],
      "outputs": [],
      "execution_count": null,
      "metadata": {}
    },
    {
      "cell_type": "markdown",
      "source": [
        "---"
      ],
      "metadata": {}
    },
    {
      "cell_type": "markdown",
      "source": [
        "# Account Transactions with Plaid\n",
        "\n",
        "In this section, you will use the Plaid Python SDK to connect to the Developer Sandbox account and grab a list of transactions. You will need to complete the following steps:\n",
        "\n\n",
        "1. Use the access token to fetch the transactions for the last 90 days\n",
        "2. Print the categories for each transaction type\n",
        "3. Create a new DataFrame using the following fields from the JSON transaction data: `date, name, amount, category`. (For categories with more than one label, just use the first category label in the list)\n",
        "4. Convert the data types to the appropriate types (i.e. datetimeindex for the date and float for the amount)"
      ],
      "metadata": {}
    },
    {
      "cell_type": "markdown",
      "source": [
        "### 1. Fetch the Transactions for the last 90 days"
      ],
      "metadata": {}
    },
    {
      "cell_type": "code",
      "source": [
        "# YOUR CODE HERE"
      ],
      "outputs": [],
      "execution_count": null,
      "metadata": {}
    },
    {
      "cell_type": "markdown",
      "source": [
        "### 2. Print the categories for each transaction"
      ],
      "metadata": {}
    },
    {
      "cell_type": "code",
      "source": [
        "# YOUR CODE HERE"
      ],
      "outputs": [],
      "execution_count": null,
      "metadata": {}
    },
    {
      "cell_type": "markdown",
      "source": [
        "### 3. Create a new DataFrame using the following fields from the JSON transaction data: date, name, amount, category. \n",
        "\n(For categories with more than one label, just use the first category label in the list)"
      ],
      "metadata": {}
    },
    {
      "cell_type": "code",
      "source": [
        "# YOUR CODE HERE"
      ],
      "outputs": [],
      "execution_count": null,
      "metadata": {}
    },
    {
      "cell_type": "markdown",
      "source": [
        "### 4. Convert the data types to the appropriate types \n",
        "\n(i.e. datetimeindex for the date and float for the amount)"
      ],
      "metadata": {}
    },
    {
      "cell_type": "code",
      "source": [
        "# YOUR CODE HERE"
      ],
      "outputs": [],
      "execution_count": null,
      "metadata": {}
    },
    {
      "cell_type": "markdown",
      "source": [
        "---"
      ],
      "metadata": {}
    },
    {
      "cell_type": "markdown",
      "source": [
        "# Income Analysis with Plaid\n",
        "\n",
        "In this section, you will use the Plaid Sandbox to complete the following:\n",
        "1. Determine the previous year's gross income and print the results\n",
        "2. Determine the current monthly income and print the results\n",
        "3. Determine the projected yearly income and print the results"
      ],
      "metadata": {}
    },
    {
      "cell_type": "code",
      "source": [
        "# YOUR CODE HERE"
      ],
      "outputs": [],
      "execution_count": null,
      "metadata": {}
    },
    {
      "cell_type": "markdown",
      "source": [
        "---"
      ],
      "metadata": {}
    },
    {
      "cell_type": "markdown",
      "source": [
        "# Budget Analysis\n",
        "In this section, you will use the transactions DataFrame to analyze the customer's budget\n",
        "\n",
        "1. Calculate the total spending per category and print the results (Hint: groupby or count transactions per category)\n",
        "2. Generate a bar chart with the number of transactions for each category \n",
        "3. Calulate the expenses per month\n",
        "4. Plot the total expenses per month"
      ],
      "metadata": {}
    },
    {
      "cell_type": "markdown",
      "source": [
        "### Calculate the expenses per category"
      ],
      "metadata": {}
    },
    {
      "cell_type": "code",
      "source": [
        "# YOUR CODE HERE"
      ],
      "outputs": [],
      "execution_count": null,
      "metadata": {}
    },
    {
      "cell_type": "markdown",
      "source": [
        "### Calculate the expenses per month"
      ],
      "metadata": {}
    },
    {
      "cell_type": "code",
      "source": [
        "# YOUR CODE HERE"
      ],
      "outputs": [],
      "execution_count": null,
      "metadata": {}
    }
  ],
  "metadata": {
    "kernelspec": {
      "name": "dev",
      "language": "python",
      "display_name": "dev"
    },
    "language_info": {
      "name": "python",
      "version": "3.6.8",
      "mimetype": "text/x-python",
      "codemirror_mode": {
        "name": "ipython",
        "version": 3
      },
      "pygments_lexer": "ipython3",
      "nbconvert_exporter": "python",
      "file_extension": ".py"
    },
    "kernel_info": {
      "name": "dev"
    },
    "nteract": {
      "version": "0.12.3"
    }
  },
  "nbformat": 4,
  "nbformat_minor": 2
}