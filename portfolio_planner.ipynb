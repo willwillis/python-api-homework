{
  "cells": [
    {
      "cell_type": "code",
      "source": [
        "import numpy as np\n",
        "import pandas as pd\n",
        "from datetime import datetime, timedelta\n",
        "import matplotlib.pyplot as plt\n",
        "%matplotlib inline"
      ],
      "outputs": [],
      "execution_count": 1,
      "metadata": {
        "collapsed": true
      }
    },
    {
      "cell_type": "code",
      "source": [
        "np.random.seed(42)"
      ],
      "outputs": [],
      "execution_count": 2,
      "metadata": {}
    },
    {
      "cell_type": "markdown",
      "source": [
        "# Portfolio Planner\n",
        "\nIn this activity, you will use the iedfinance api to grab historical data for a 60/40 portfolio using `SPY` to represent the stock portion and `AGG` to represent the bonds."
      ],
      "metadata": {}
    },
    {
      "cell_type": "code",
      "source": [
        "from iexfinance.stocks import get_historical_data\n",
        "import iexfinance as iex"
      ],
      "outputs": [],
      "execution_count": 3,
      "metadata": {
        "collapsed": true
      }
    },
    {
      "cell_type": "markdown",
      "source": [
        "# Data Collection\n",
        "\nIn this step, you will need to use the IEX api to fetch closing prices for the `SPY` and `AGG` tickers. Save the results as a pandas DataFrame"
      ],
      "metadata": {}
    },
    {
      "cell_type": "code",
      "source": [
        "list_of_tickers = [\"SPY\", \"AGG\"]\n",
        "# YOUR CODE HERE"
      ],
      "outputs": [],
      "execution_count": 5,
      "metadata": {
        "collapsed": true
      }
    },
    {
      "cell_type": "markdown",
      "source": [
        "# Monte Carlo Simulation\n",
        "\n",
        "In this step, you will run Monte Carlo Simulations for your portfolio to model portfolio performance at different retirement ages. \n",
        "\n",
        "Complete the following steps:\n",
        "1. Calculate the daily returns for the SPY and AGG closing prices.\n",
        "2. Calculate volatility for both the SPY and AGG closing prices.\n",
        "3. Find the last day's closing price for both stocks and save those as variables.\n",
        "4. Run a Monte Carlo Simulation of at least 100 iterations and generate at least 20 years of closing prices\n",
        "\n",
        "### HINTS:\n",
        "There are 252 trading days per year, so the number of records to generate for each Monte Carlo run will be 252 days * 20 years"
      ],
      "metadata": {}
    },
    {
      "cell_type": "code",
      "source": [
        "# Calculate the daily roi for the stocks\n",
        "# YOUR CODE HERE"
      ],
      "outputs": [],
      "execution_count": null,
      "metadata": {}
    },
    {
      "cell_type": "code",
      "source": [
        "# Calculate volatility\n",
        "# YOUR CODE HERE"
      ],
      "outputs": [],
      "execution_count": 8,
      "metadata": {
        "collapsed": true
      }
    },
    {
      "cell_type": "code",
      "source": [
        "# Save the last day's closing price\n",
        "# YOUR CODE HERE"
      ],
      "outputs": [],
      "execution_count": 9,
      "metadata": {
        "collapsed": true
      }
    },
    {
      "cell_type": "code",
      "source": [
        "# Setup the Monte Carlo Parameters\n",
        "number_simulations = 100\n",
        "number_records = 252 * 30\n",
        "monte_carlo = pd.DataFrame()"
      ],
      "outputs": [],
      "execution_count": 10,
      "metadata": {
        "collapsed": true
      }
    },
    {
      "cell_type": "code",
      "source": [
        "# Run the Monte Carlo Simulation\n",
        "for x in range(number_simulations):\n",
        "    \n",
        "    # YOUR CODE HERE"
      ],
      "outputs": [],
      "execution_count": 11,
      "metadata": {}
    },
    {
      "cell_type": "code",
      "source": [
        "# Visualize the Simulation\n",
        "# YOUR CODE HERE"
      ],
      "outputs": [],
      "execution_count": null,
      "metadata": {}
    },
    {
      "cell_type": "code",
      "source": [
        "# Select the last row for the cumulative returns (cumulative returns at 30 years)\n",
        "# YOUR CODE HERE"
      ],
      "outputs": [],
      "execution_count": 14,
      "metadata": {}
    },
    {
      "cell_type": "code",
      "source": [
        "# Select the last row for the cumulative returns (cumulative returns at 20 years)\n",
        "# YOUR CODE HERE"
      ],
      "outputs": [],
      "execution_count": null,
      "metadata": {}
    },
    {
      "cell_type": "code",
      "source": [
        "# Display the 90% confidence interval for the ending returns\n",
        "# YOUR CODE HERE"
      ],
      "outputs": [],
      "execution_count": null,
      "metadata": {}
    },
    {
      "cell_type": "code",
      "source": [
        "# Visualize the distribution of the ending returns\n",
        "# YOUR CODE HERE"
      ],
      "outputs": [],
      "execution_count": null,
      "metadata": {}
    },
    {
      "cell_type": "markdown",
      "source": [
        "---"
      ],
      "metadata": {}
    },
    {
      "cell_type": "markdown",
      "source": [
        "# Retirement Analysis\n",
        "\n",
        "In this section, you will use the monte carlo model to answer the following retirement planning questions:\n",
        "\n",
        "1. What are the expected cumulative returns at 30 years for the 10th, 50th, and 90th percentiles?\n",
        "2. Given an initial investment of `$20,000`, what is the expected portfolio return in dollars at the 10th, 50th, and 90th percentiles?\n",
        "3. Given the current projected annual income from the Plaid analysis, will a 4% withdraw rate from the retirement portfolio meet or exceed that value at the 10th percentile?\n",
        "4. How would a 50% increase in the initial investment amount affect the 4% retirement withdrawal?"
      ],
      "metadata": {}
    },
    {
      "cell_type": "markdown",
      "source": [
        "### What are the expected cumulative returns at 30 years for the 10th, 50th, and 90th percentiles?"
      ],
      "metadata": {}
    },
    {
      "cell_type": "code",
      "source": [
        "# YOUR CODE HERE"
      ],
      "outputs": [],
      "execution_count": null,
      "metadata": {}
    },
    {
      "cell_type": "markdown",
      "source": [
        "### Given an initial investment of `$20,000`, what is the expected portfolio return in dollars at the 10th, 50th, and 90th percentiles?"
      ],
      "metadata": {}
    },
    {
      "cell_type": "code",
      "source": [
        "# YOUR CODE HERE"
      ],
      "outputs": [],
      "execution_count": null,
      "metadata": {}
    },
    {
      "cell_type": "markdown",
      "source": [
        "### Given the current projected annual income from the Plaid analysis, will a 4% withdraw rate from the retirement portfolio meet or exceed that value at the 10th percentile?\n",
        "\nNote: This is effectively saying that 90% of the expected returns will be greater than the return at the 10th percentile, so this can help measure the uncertainty about having enough funds at retirement"
      ],
      "metadata": {}
    },
    {
      "cell_type": "code",
      "source": [
        "# YOUR CODE HERE"
      ],
      "outputs": [],
      "execution_count": null,
      "metadata": {}
    },
    {
      "cell_type": "markdown",
      "source": [
        "### How would a 50% increase in the initial investment amount affect the 4% retirement withdrawal?"
      ],
      "metadata": {}
    },
    {
      "cell_type": "code",
      "source": [
        "# YOUR CODE HERE"
      ],
      "outputs": [],
      "execution_count": null,
      "metadata": {}
    },
    {
      "cell_type": "markdown",
      "source": [
        "### Optional Challenge\n",
        "\nIn this section, you will calculate and plot the cumulative returns for the median and 90% confidence intervals. This plot shows the expected cumulative returns for any given day between the first day and the last day of investment. "
      ],
      "metadata": {}
    },
    {
      "cell_type": "code",
      "source": [
        "# YOUR CODE HERE"
      ],
      "outputs": [],
      "execution_count": null,
      "metadata": {}
    }
  ],
  "metadata": {
    "kernelspec": {
      "name": "dev",
      "language": "python",
      "display_name": "dev"
    },
    "language_info": {
      "name": "python",
      "version": "3.6.8",
      "mimetype": "text/x-python",
      "codemirror_mode": {
        "name": "ipython",
        "version": 3
      },
      "pygments_lexer": "ipython3",
      "nbconvert_exporter": "python",
      "file_extension": ".py"
    },
    "kernel_info": {
      "name": "dev"
    },
    "nteract": {
      "version": "0.12.3"
    }
  },
  "nbformat": 4,
  "nbformat_minor": 2
}